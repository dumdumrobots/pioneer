{
 "cells": [
  {
   "cell_type": "markdown",
   "metadata": {},
   "source": [
    "<center>\n",
    "\n",
    "# **Pioneer V1 Model Architecture**\n",
    "\n",
    "</center>\n"
   ]
  },
  {
   "cell_type": "markdown",
   "metadata": {},
   "source": [
    "## **Model Architecture**"
   ]
  },
  {
   "cell_type": "code",
   "execution_count": 4,
   "metadata": {},
   "outputs": [],
   "source": [
    "import torch.nn as nn\n",
    "import torch.nn.functional as F\n",
    "\n",
    "from torch import optim"
   ]
  },
  {
   "cell_type": "code",
   "execution_count": 5,
   "metadata": {},
   "outputs": [],
   "source": [
    "class Pioneer(nn.Module):\n",
    "    def __init__(self):\n",
    "        super(Pioneer, self).__init__()\n",
    "        \n",
    "        # Convolutional layers\n",
    "        self.conv1 = nn.Conv2d(in_channels=1, out_channels=32, kernel_size=3)\n",
    "        self.conv2 = nn.Conv2d(in_channels=32, out_channels=64, kernel_size=3)\n",
    "        \n",
    "        # Fully connected layers\n",
    "        self.fc1 = nn.Linear(in_features=64*5*5, out_features=128)\n",
    "        self.fc2 = nn.Linear(in_features=128, out_features=10)\n",
    "\n",
    "    def forward(self, x):\n",
    "        # Convolutional layers with max pooling\n",
    "        x = F.relu(F.max_pool2d(self.conv1(x), kernel_size=2))\n",
    "        x = F.relu(F.max_pool2d(self.conv2(x), kernel_size=2))\n",
    "        \n",
    "        # Flatten the output for fully connected layers\n",
    "        x = x.view(-1, 64*5*5)\n",
    "        \n",
    "        # Fully connected layers with ReLU activation\n",
    "        x = F.relu(self.fc1(x))\n",
    "        x = self.fc2(x)\n",
    "        \n",
    "        return F.log_softmax(x, dim=1)"
   ]
  },
  {
   "cell_type": "code",
   "execution_count": 6,
   "metadata": {},
   "outputs": [
    {
     "name": "stdout",
     "output_type": "stream",
     "text": [
      "Model Architecture: \n",
      "\n",
      "Pioneer(\n",
      "  (conv1): Conv2d(1, 32, kernel_size=(3, 3), stride=(1, 1))\n",
      "  (conv2): Conv2d(32, 64, kernel_size=(3, 3), stride=(1, 1))\n",
      "  (fc1): Linear(in_features=1600, out_features=128, bias=True)\n",
      "  (fc2): Linear(in_features=128, out_features=10, bias=True)\n",
      ")\n"
     ]
    }
   ],
   "source": [
    "pioneer_v1 = Pioneer()\n",
    "\n",
    "print(f\"Model Architecture: \\n\\n{pioneer_v1}\")"
   ]
  },
  {
   "cell_type": "markdown",
   "metadata": {},
   "source": [
    "## **MNIST Dataset**"
   ]
  },
  {
   "cell_type": "code",
   "execution_count": 7,
   "metadata": {},
   "outputs": [],
   "source": [
    "import torch\n",
    "\n",
    "from matplotlib import pyplot as plt\n",
    "\n",
    "from torchvision import datasets, transforms"
   ]
  },
  {
   "cell_type": "code",
   "execution_count": 8,
   "metadata": {},
   "outputs": [],
   "source": [
    "# Transform MNIST Dataset To Pytorch Friendly Format\n",
    "transform = transforms.Compose(\n",
    "                                [transforms.ToTensor(), \n",
    "                                transforms.Normalize((0.5,), (0.5,)),]\n",
    "                               )"
   ]
  },
  {
   "cell_type": "code",
   "execution_count": 9,
   "metadata": {},
   "outputs": [],
   "source": [
    "# Training Set\n",
    "mnist_trainset = datasets.MNIST(root='./data', train=True, download=True, transform=transform)\n",
    "train_loader = torch.utils.data.DataLoader(mnist_trainset, batch_size=10, shuffle=True)\n",
    "\n",
    "# Evaluation Set\n",
    "mnist_evalset = datasets.MNIST(root='./data', train=False, download=True, transform=transform)\n",
    "eval_loader = torch.utils.data.DataLoader(mnist_evalset, batch_size=10, shuffle=True)"
   ]
  },
  {
   "cell_type": "code",
   "execution_count": 12,
   "metadata": {},
   "outputs": [
    {
     "data": {
      "image/png": "[encoded data removed]",
      "text/plain": [
       "<Figure size 1000x400 with 10 Axes>"
      ]
     },
     "metadata": {},
     "output_type": "display_data"
    }
   ],
   "source": [
    "# Plot Evaluation Set\n",
    "fig, axes = plt.subplots(2, 5, figsize=(10, 4))\n",
    "for i, ax in enumerate(axes.flat):\n",
    "    tensor, label = mnist_evalset[i]\n",
    "    ax.imshow(tensor.squeeze(), cmap='gray')\n",
    "    ax.set_title(f\"Label: {label}\")\n",
    "    ax.axis('off')\n",
    "plt.show()"
   ]
  },
  {
   "cell_type": "markdown",
   "metadata": {},
   "source": [
    "## **MNIST Training**"
   ]
  },
  {
   "cell_type": "code",
   "execution_count": 13,
   "metadata": {},
   "outputs": [],
   "source": [
    "class PioneerTrainer:\n",
    "    def __init__(self, model, train_loader, eval_loader, criterion, optimizer, checkpoint_path):\n",
    "        self.model = model\n",
    "        self.train_loader = train_loader\n",
    "        self.eval_loader = eval_loader\n",
    "        self.criterion = criterion\n",
    "        self.optimizer = optimizer\n",
    "        self.checkpoint_path = checkpoint_path\n",
    "\n",
    "    def train(self, epochs=5):\n",
    "        print(\"Training started...\")\n",
    "        for epoch in range(1, epochs + 1):\n",
    "            running_loss = 0.0\n",
    "            for i, (inputs, labels) in enumerate(self.train_loader, 1):\n",
    "                self.optimizer.zero_grad()\n",
    "                outputs = self.model(inputs)\n",
    "                loss = self.criterion(outputs, labels)\n",
    "                loss.backward()\n",
    "                self.optimizer.step()\n",
    "                running_loss += loss.item()\n",
    "\n",
    "                if i % 100 == 0:\n",
    "                    print(f\"Epoch [{epoch}/{epochs}], Step [{i}/{len(self.train_loader)}], Loss: {running_loss / i:.4f}\")\n",
    "\n",
    "            print(f\"Epoch [{epoch}/{epochs}], Loss: {running_loss / len(self.train_loader):.4f}\")\n",
    "\n",
    "            # Save checkpoint\n",
    "            self.save_checkpoint(epoch)\n",
    "\n",
    "        print(\"Training finished.\")\n",
    "\n",
    "    def evaluate(self):\n",
    "        print(\"Evaluation started...\")\n",
    "        correct = 0\n",
    "        total = 0\n",
    "        with torch.no_grad():\n",
    "            for images, labels in self.eval_loader:\n",
    "                outputs = self.model(images)\n",
    "                _, predicted = torch.max(outputs.data, 1)\n",
    "                total += labels.size(0)\n",
    "                correct += (predicted == labels).sum().item()\n",
    "\n",
    "        accuracy = 100 * correct / total\n",
    "        print(f\"Accuracy of the network on the {total} test images: {accuracy:.2f}%\")\n",
    "        print(\"Evaluation finished.\")\n",
    "\n",
    "    def save_checkpoint(self, epoch):\n",
    "        checkpoint = {\n",
    "            'epoch': epoch,\n",
    "            'model_state_dict': self.model.state_dict(),\n",
    "            'optimizer_state_dict': self.optimizer.state_dict(),\n",
    "            'loss': self.criterion\n",
    "        }\n",
    "        torch.save(checkpoint, self.checkpoint_path)\n",
    "        print(\"Checkpoint saved.\")"
   ]
  },
  {
   "cell_type": "code",
   "execution_count": null,
   "metadata": {},
   "outputs": [],
   "source": [
    "# Initialize your model, criterion, optimizer, and data loaders\n",
    "pioneer_v1 = Pioneer()\n",
    "transform = transforms.Compose([transforms.ToTensor(), transforms.Normalize((0.5,), (0.5,)),])\n",
    "mnist_trainset = datasets.MNIST(root='./data', train=True, download=True, transform=transform)\n",
    "train_loader = torch.utils.data.DataLoader(mnist_trainset, batch_size=128, shuffle=True)\n",
    "mnist_evalset = datasets.MNIST(root='./data', train=False, download=True, transform=transform)\n",
    "eval_loader = torch.utils.data.DataLoader(mnist_evalset, batch_size=128, shuffle=False)\n",
    "criterion = nn.NLLLoss()\n",
    "optimizer = optim.SGD(pioneer_v1.parameters(), lr=0.01, momentum=0.5)\n",
    "\n",
    "# Create the trainer instance\n",
    "trainer = PioneerTrainer(pioneer_v1, train_loader, eval_loader, criterion, optimizer, checkpoint_path='pioneer_checkpoint.pth')\n",
    "\n",
    "# Train the model\n",
    "trainer.train(epochs=5)\n",
    "\n",
    "# Evaluate the model\n",
    "trainer.evaluate()"
   ]
  },
  {
   "cell_type": "markdown",
   "metadata": {},
   "source": [
    "## **Further Train Model**"
   ]
  },
  {
   "cell_type": "code",
   "execution_count": 14,
   "metadata": {},
   "outputs": [
    {
     "name": "stdout",
     "output_type": "stream",
     "text": [
      "Training started...\n",
      "Epoch [1/10], Step [100/469], Loss: 0.0070\n",
      "Epoch [1/10], Step [200/469], Loss: 0.0072\n",
      "Epoch [1/10], Step [300/469], Loss: 0.0071\n",
      "Epoch [1/10], Step [400/469], Loss: 0.0069\n",
      "Epoch [1/10], Loss: 0.0070\n",
      "Checkpoint saved.\n",
      "Epoch [2/10], Step [100/469], Loss: 0.0051\n",
      "Epoch [2/10], Step [200/469], Loss: 0.0058\n",
      "Epoch [2/10], Step [300/469], Loss: 0.0066\n",
      "Epoch [2/10], Step [400/469], Loss: 0.0068\n",
      "Epoch [2/10], Loss: 0.0069\n",
      "Checkpoint saved.\n",
      "Epoch [3/10], Step [100/469], Loss: 0.0063\n",
      "Epoch [3/10], Step [200/469], Loss: 0.0052\n",
      "Epoch [3/10], Step [300/469], Loss: 0.0056\n",
      "Epoch [3/10], Step [400/469], Loss: 0.0060\n",
      "Epoch [3/10], Loss: 0.0061\n",
      "Checkpoint saved.\n",
      "Epoch [4/10], Step [100/469], Loss: 0.0056\n",
      "Epoch [4/10], Step [200/469], Loss: 0.0057\n",
      "Epoch [4/10], Step [300/469], Loss: 0.0057\n",
      "Epoch [4/10], Step [400/469], Loss: 0.0057\n",
      "Epoch [4/10], Loss: 0.0059\n",
      "Checkpoint saved.\n",
      "Epoch [5/10], Step [100/469], Loss: 0.0058\n",
      "Epoch [5/10], Step [200/469], Loss: 0.0052\n",
      "Epoch [5/10], Step [300/469], Loss: 0.0048\n",
      "Epoch [5/10], Step [400/469], Loss: 0.0049\n",
      "Epoch [5/10], Loss: 0.0052\n",
      "Checkpoint saved.\n",
      "Epoch [6/10], Step [100/469], Loss: 0.0033\n",
      "Epoch [6/10], Step [200/469], Loss: 0.0034\n",
      "Epoch [6/10], Step [300/469], Loss: 0.0042\n",
      "Epoch [6/10], Step [400/469], Loss: 0.0046\n",
      "Epoch [6/10], Loss: 0.0051\n",
      "Checkpoint saved.\n",
      "Epoch [7/10], Step [100/469], Loss: 0.0046\n",
      "Epoch [7/10], Step [200/469], Loss: 0.0043\n",
      "Epoch [7/10], Step [300/469], Loss: 0.0043\n",
      "Epoch [7/10], Step [400/469], Loss: 0.0048\n",
      "Epoch [7/10], Loss: 0.0046\n",
      "Checkpoint saved.\n",
      "Epoch [8/10], Step [100/469], Loss: 0.0026\n",
      "Epoch [8/10], Step [200/469], Loss: 0.0040\n",
      "Epoch [8/10], Step [300/469], Loss: 0.0038\n",
      "Epoch [8/10], Step [400/469], Loss: 0.0036\n",
      "Epoch [8/10], Loss: 0.0036\n",
      "Checkpoint saved.\n",
      "Epoch [9/10], Step [100/469], Loss: 0.0029\n",
      "Epoch [9/10], Step [200/469], Loss: 0.0029\n",
      "Epoch [9/10], Step [300/469], Loss: 0.0037\n",
      "Epoch [9/10], Step [400/469], Loss: 0.0037\n",
      "Epoch [9/10], Loss: 0.0037\n",
      "Checkpoint saved.\n",
      "Epoch [10/10], Step [100/469], Loss: 0.0032\n",
      "Epoch [10/10], Step [200/469], Loss: 0.0035\n",
      "Epoch [10/10], Step [300/469], Loss: 0.0036\n",
      "Epoch [10/10], Step [400/469], Loss: 0.0035\n",
      "Epoch [10/10], Loss: 0.0033\n",
      "Checkpoint saved.\n",
      "Training finished.\n",
      "Evaluation started...\n",
      "Accuracy of the network on the 10000 test images: 99.06%\n",
      "Evaluation finished.\n"
     ]
    }
   ],
   "source": [
    "# Initialize your model, criterion, optimizer, and data loaders\n",
    "pioneer_v2 = Pioneer()\n",
    "\n",
    "# Load the checkpoint\n",
    "checkpoint = torch.load('pioneer_checkpoint_v2.pth')\n",
    "\n",
    "# Load model state\n",
    "pioneer_v2.load_state_dict(checkpoint['model_state_dict'])\n",
    "\n",
    "# Initialize the optimizer\n",
    "optimizer = optim.SGD(pioneer_v2.parameters(), lr=0.01, momentum=0.5)\n",
    "\n",
    "# Load optimizer state\n",
    "optimizer.load_state_dict(checkpoint['optimizer_state_dict'])\n",
    "\n",
    "# Modify optimizer parameters\n",
    "optimizer.param_groups[0]['lr'] = 0.005  \n",
    "optimizer.param_groups[0]['momentum'] = 0.9  \n",
    "\n",
    "# Initialize the data loaders, criterion, and transform\n",
    "transform = transforms.Compose([transforms.ToTensor(), transforms.Normalize((0.5,), (0.5,)),])\n",
    "mnist_trainset = datasets.MNIST(root='./data', train=True, download=True, transform=transform)\n",
    "train_loader = torch.utils.data.DataLoader(mnist_trainset, batch_size=128, shuffle=True)\n",
    "mnist_evalset = datasets.MNIST(root='./data', train=False, download=True, transform=transform)\n",
    "eval_loader = torch.utils.data.DataLoader(mnist_evalset, batch_size=128, shuffle=False)\n",
    "criterion = nn.NLLLoss()\n",
    "\n",
    "# Create the trainer instance\n",
    "trainer = PioneerTrainer(pioneer_v2, train_loader, eval_loader, criterion, optimizer, checkpoint_path='pioneer_checkpoint_v2.pth')\n",
    "\n",
    "# Train the model\n",
    "trainer.train(epochs=10)\n",
    "\n",
    "# Evaluate the model\n",
    "trainer.evaluate()"
   ]
  },
  {
   "cell_type": "code",
   "execution_count": 15,
   "metadata": {},
   "outputs": [
    {
     "data": {
      "image/png": "[encoded data removed]",
      "text/plain": [
       "<Figure size 1000x400 with 10 Axes>"
      ]
     },
     "metadata": {},
     "output_type": "display_data"
    }
   ],
   "source": [
    "import torch\n",
    "from torchvision import datasets, transforms\n",
    "from matplotlib import pyplot as plt\n",
    "\n",
    "# Load the checkpoint\n",
    "checkpoint = torch.load('pioneer_checkpoint_v2.pth')\n",
    "\n",
    "# Initialize the model and load its state\n",
    "pioneer_v2 = Pioneer()\n",
    "pioneer_v2.load_state_dict(checkpoint['model_state_dict'])\n",
    "\n",
    "# Set the model to evaluation mode\n",
    "pioneer_v2.eval()\n",
    "\n",
    "# Load the MNIST evaluation dataset\n",
    "transform = transforms.Compose([transforms.ToTensor(), transforms.Normalize((0.5,), (0.5,)),])\n",
    "mnist_evalset = datasets.MNIST(root='./data', train=False, download=True, transform=transform)\n",
    "eval_loader = torch.utils.data.DataLoader(mnist_evalset, batch_size=10, shuffle=True)\n",
    "\n",
    "# Function to plot images\n",
    "def plot_images(images, labels, predicted_labels):\n",
    "    fig, axes = plt.subplots(2, 5, figsize=(10, 4))\n",
    "    for i, ax in enumerate(axes.flat):\n",
    "        ax.imshow(images[i].numpy().squeeze(), cmap='gray')\n",
    "        ax.set_title(f\"Label: {labels[i]}, Predicted: {predicted_labels[i]}\")\n",
    "        ax.axis('off')\n",
    "    plt.tight_layout()\n",
    "    plt.show()\n",
    "\n",
    "# Function to make predictions on a batch of images\n",
    "def predict_batch(model, images):\n",
    "    with torch.no_grad():\n",
    "        outputs = model(images)\n",
    "        _, predicted = torch.max(outputs, 1)\n",
    "    return predicted\n",
    "\n",
    "# Get a batch of sample images and labels\n",
    "images, labels = next(iter(eval_loader))\n",
    "\n",
    "# Make predictions\n",
    "predicted_labels = predict_batch(pioneer_v2, images)\n",
    "\n",
    "# Plot the images with predicted labels\n",
    "plot_images(images, labels, predicted_labels)"
   ]
  }
 ],
 "metadata": {
  "kernelspec": {
   "display_name": ".venv",
   "language": "python",
   "name": "python3"
  },
  "language_info": {
   "codemirror_mode": {
    "name": "ipython",
    "version": 3
   },
   "file_extension": ".py",
   "mimetype": "text/x-python",
   "name": "python",
   "nbconvert_exporter": "python",
   "pygments_lexer": "ipython3",
   "version": "3.10.11"
  }
 },
 "nbformat": 4,
 "nbformat_minor": 2
}
